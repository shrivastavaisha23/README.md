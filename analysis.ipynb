import pandas as pd

# Load your dataset
df = pd.read_csv("../data/raw/cyber_incidents.csv")

# See first 5 rows
df.head()

# Check dataset shape and columns
df.shape, df.columns

# Count incidents per year
yearly_counts = df['year'].value_counts().sort_index()

plt.figure(figsize=(10,6))
sns.lineplot(x=yearly_counts.index, y=yearly_counts.values, marker="o")
plt.title("Cyberattacks Over Time")
plt.xlabel("Year")
plt.ylabel("Number of Incidents")
plt.show()


# Count attack vectors
attack_counts = df['attack_vector'].value_counts().head(10)

plt.figure(figsize=(10,6))
sns.barplot(x=attack_counts.index, y=attack_counts.values, palette="mako")
plt.xticks(rotation=45, ha='right')
plt.title("Top Attack Vectors")
plt.xlabel("Attack Vector")
plt.ylabel("Number of Incidents")
plt.show()

# Save cleaned dataset for app use
df.to_csv("../data/processed/clean_cyber_incidents.csv", index=False)
